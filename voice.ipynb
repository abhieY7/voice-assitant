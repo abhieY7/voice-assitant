{
  "nbformat": 4,
  "nbformat_minor": 0,
  "metadata": {
    "colab": {
      "name": "voice.ipynb",
      "provenance": [],
      "authorship_tag": "ABX9TyMewctbkJuysTmQ1Rn8L+7n",
      "include_colab_link": true
    },
    "kernelspec": {
      "name": "python3",
      "display_name": "Python 3"
    }
  },
  "cells": [
    {
      "cell_type": "markdown",
      "metadata": {
        "id": "view-in-github",
        "colab_type": "text"
      },
      "source": [
        "<a href=\"https://colab.research.google.com/github/abhieY7/voice-assitant/blob/master/voice.ipynb\" target=\"_parent\"><img src=\"https://colab.research.google.com/assets/colab-badge.svg\" alt=\"Open In Colab\"/></a>"
      ]
    },
    {
      "cell_type": "code",
      "metadata": {
        "id": "F9XS7SUhkh7k",
        "colab_type": "code",
        "colab": {}
      },
      "source": [
        "import pyttsx3\n",
        "import speech_recognition as sr\n",
        "import datetime\n",
        "import wikipedia\n",
        "import webbrowser\n",
        "import os\n",
        "import smtplib"
      ],
      "execution_count": 0,
      "outputs": []
    },
    {
      "cell_type": "code",
      "metadata": {
        "id": "Tx1wTGq2pl4m",
        "colab_type": "code",
        "colab": {}
      },
      "source": [
        "MASTER = \"Sir\"\n",
        "print(\"Initializing Assistant\")\n",
        "\n",
        "engine = pyttsx3.init('sapi5')\n",
        "voices = engine.getProperty('voices')\n",
        "engine.setProperty('voice', voices[0].id)\n",
        "\n",
        "def speak(text):\n",
        "    engine.say(text)\n",
        "    engine.runAndWait()\n",
        "    \n",
        "speak(\"Initializing Assistant\")\n"
      ],
      "execution_count": 0,
      "outputs": []
    },
    {
      "cell_type": "code",
      "metadata": {
        "id": "DkPM-4xJpou_",
        "colab_type": "code",
        "colab": {}
      },
      "source": [
        "def wishMe():\n",
        "    hour = int(datetime.datetime.now().hour)\n",
        "    \n",
        "    if hour>=0 and hour<12:\n",
        "        speak(\"Good Morning\" + MASTER + \", how may I help you?\")\n",
        "        \n",
        "    elif hour>=12 and hour<18:\n",
        "        speak(\"Good Afternoon\" + MASTER + \", how may I help you?\")\n",
        "        \n",
        "    else:\n",
        "        speak(\"Good Evening\" + MASTER + \", how may I help you?\")"
      ],
      "execution_count": 0,
      "outputs": []
    },
    {
      "cell_type": "code",
      "metadata": {
        "id": "iygTmkKnpxri",
        "colab_type": "code",
        "colab": {}
      },
      "source": [
        "def takeCommand():\n",
        "    r = sr.Recognizer()\n",
        "    with sr.Microphone() as source:\n",
        "        print(\"Listening...\")\n",
        "        audio = r.listen(source)\n",
        "        \n",
        "    try:\n",
        "        print(\"Recognizing..\")\n",
        "        query = r.recognize_google(audio, language = 'en-in')\n",
        "        print(f\"user said: {query}\\n\")\n",
        "        \n",
        "    except Exception as e:\n",
        "        print(\"Uh-Oh, say that again please...\")\n",
        "        speak(\"Uh-Oh, say that again please...\")\n",
        "        query = None\n",
        "    return query"
      ],
      "execution_count": 0,
      "outputs": []
    },
    {
      "cell_type": "code",
      "metadata": {
        "id": "4cTvoA2qp27C",
        "colab_type": "code",
        "colab": {}
      },
      "source": [
        "def sendEmail(to, content):\n",
        "    server = smtplib.SMTP('smtp.gmail.com', 587)\n",
        "    server.ehlo()\n",
        "    server.starttls()\n",
        "    server.login('your email id', 'your passwd')\n",
        "    server.sendmail('reciever's email id', to, content)\n",
        "    server.close()\n"
      ],
      "execution_count": 0,
      "outputs": []
    },
    {
      "cell_type": "code",
      "metadata": {
        "id": "_KIayyQ3p7mG",
        "colab_type": "code",
        "colab": {}
      },
      "source": [
        "def main():\n",
        "    wishMe()\n",
        "    speak(\"I am your virtual assistant and will be happy to help!\")\n",
        "    query = takeCommand()\n",
        "\n",
        "    #Logic for executing tasks\n",
        "    if 'wikipedia' in query.lower():\n",
        "        speak('Searching wikipedia...')\n",
        "        query = query.replace(\"wikipedia\", \"\")\n",
        "        results = wikipedia.summary(query, sentences = 2)\n",
        "        print(results)\n",
        "        speak(results) \n",
        "\n",
        "    elif 'open youtube' in query.lower():\n",
        "        url = \"youtube.com\"\n",
        "        chrome_path = 'C:/Program Files (x86)/Google/Chrome/Application/Chrome.exe %s'\n",
        "        webbrowser.get(chrome_path).open(url)\n",
        "\n",
        "    elif 'open google' in query.lower():\n",
        "        url = \"google.com\"\n",
        "        chrome_path = 'C:/Program Files (x86)/Google/Chrome/Application/Chrome.exe %s'\n",
        "        webbrowser.get(chrome_path).open(url)\n",
        "\n",
        "    elif 'open Facebook' in query.lower():\n",
        "        url = \"facebook.com\"\n",
        "        chrome_path = 'C:/Program Files (x86)/Google/Chrome/Application/Chrome.exe %s'\n",
        "        webbrowser.get(chrome_path).open(url)\n",
        "\n",
        "    elif 'open live' in query.lower():\n",
        "        url = \"lpulive.lpu.in\"\n",
        "        chrome_path = 'C:/Program Files (x86)/Google/Chrome/Application/Chrome.exe %s'\n",
        "        webbrowser.get(chrome_path).open(url)\n",
        "\n",
        "    elif 'open university management system' in query.lower():\n",
        "        url = \"ums.lpu.in\"\n",
        "        chrome_path = 'C:/Program Files (x86)/Google/Chrome/Application/Chrome.exe %s'\n",
        "        webbrowser.get(chrome_path).open(url)\n",
        "\n",
        "    elif 'play music' in query.lower():\n",
        "        songs_dir = \"D:\\\\Music\"\n",
        "        songs = os.listdir(songs_dir)\n",
        "        print(songs)\n",
        "        os.startfile(os.path.join(songs_dir, songs[0]))\n",
        "\n",
        "    elif 'time' in query.lower():\n",
        "        strTime = datetime.datetime.now().strftime(\"%H:%M:%S\")\n",
        "        speak(\"Sir, the time is\" + strTime)\n",
        "\n",
        "    elif 'open code' in query.lower():\n",
        "        codePath = \"C:\\\\Users\\\\Ankit Sharma\\\\AppData\\\\Local\\\\Programs\\\\Microsoft VS Code\\\\Code.exe\"\n",
        "        os.startfile(codePath)\n",
        "    \n",
        "    elif 'open notepad' in query.lower():\n",
        "        notePath = \"C:\\\\Windows\\\\system32\\\\notepad.exe\"\n",
        "        os.startfile(notePath)\n",
        "    \n",
        "    elif 'tell me a joke' in query.lower():\n",
        "        speak(\"A user interface is like a joke; if you have to explain it, then it's not that good!\")\n",
        "\n",
        "    elif 'open github' in query.lower():\n",
        "        url = \"github.com\"\n",
        "        chrome_path = 'C:/Program Files (x86)/Google/Chrome/Application/Chrome.exe %s'\n",
        "        webbrowser.get(chrome_path).open(url)\n",
        "\n",
        "    elif 'send mail' in query.lower():\n",
        "        try:\n",
        "            speak(\"What should I say?\")\n",
        "            content = takeCommand()\n",
        "            to = \"reciever's mail id\"\n",
        "            sendEmail(to, content)\n",
        "            speak(\"Email has been sent\")\n",
        "        except Exception as e:\n",
        "            print(e)\n",
        "            speak(\"Sorry\" + MASTER + \"I was unable to send the email\")\n",
        "    \n",
        "main()"
      ],
      "execution_count": 0,
      "outputs": []
    }
  ]
}